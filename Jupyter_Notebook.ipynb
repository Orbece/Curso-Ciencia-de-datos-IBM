{
 "cells": [
  {
   "cell_type": "markdown",
   "metadata": {},
   "source": [
    "<center>\n",
    "    <img src=\"https://cf-courses-data.s3.us.cloud-object-storage.appdomain.cloud/IBMDeveloperSkillsNetwork-DS0105EN-SkillsNetwork/labs/Module2/images/SN_web_lightmode.png\" width=\"300\" alt=\"cognitiveclass.ai logo\">\n",
    "</center>\n"
   ]
  },
  {
   "cell_type": "markdown",
   "metadata": {},
   "source": [
    "#### Add your code below following the instructions given in the course\n"
   ]
  },
  {
   "cell_type": "markdown",
   "metadata": {},
   "source": [
    "Ejercicio 2 - Cree una celda markdown con el título del cuaderno. (1 pto)\n",
    "# Ejercicio Jupiter crack"
   ]
  },
  {
   "cell_type": "markdown",
   "metadata": {},
   "source": [
    "Ejercicio 3 - Cree una celda markdown para una introducción. (1 pto)\n",
    "\n",
    "Hola, esto es una introducción."
   ]
  },
  {
   "cell_type": "markdown",
   "metadata": {},
   "source": [
    "Ejercicio 4 - Cree una celda markdown para enumerar los lenguajes de la ciencia de datos. (3 ptos)\n",
    "\n",
    "Python, R, SQL, Julia, Java, C/C++, Swift, Go, MATLAB y SAS."
   ]
  },
  {
   "cell_type": "markdown",
   "metadata": {},
   "source": [
    "Ejercicio 5 - Cree una celda markdown para listar bibliotecas de ciencia de datos. (3 ptos)\n",
    "\n",
    "NumPy, Pandas, Matplotlib, Scikit-learn, Seaborn, TensorFlow y Keras."
   ]
  },
  {
   "cell_type": "markdown",
   "metadata": {},
   "source": [
    "Ejercicio 6 - Cree una celda markdown con una tabla de herramientas de Ciencia de Datos. (3 ptos)\n",
    "| Categoría            | Herramientas                                    |\n",
    "|----------------------|-------------------------------------------------|\n",
    "| Lenguajes            | Python, R, SQL, Julia, Scala                    |\n",
    "| Bibliotecas          | Pandas, NumPy, SciPy, Matplotlib, Seaborn        |\n",
    "| Frameworks de ML     | TensorFlow, PyTorch, Scikit-Learn, Keras         |\n",
    "| IDEs                 | Jupyter Notebook, VS Code, PyCharm, RStudio      |\n",
    "| Bases de Datos       | MySQL, PostgreSQL, MongoDB, SQLite               |\n",
    "| Herramientas de Viz  | Tableau, Power BI, Plotly, D3.js                |\n",
    "| Big Data             | Hadoop, Spark, Kafka, Hive                       |\n",
    "| Virtualización       | Docker, Kubernetes, VirtualBox, Vagrant          |\n",
    "| Control de Versiones | Git, GitHub, GitLab, Bitbucket                  |\n",
    "| Cloud Computing      | AWS, Azure, Google Cloud Platform                |\n",
    "| Procesamiento de NLP | NLTK, SpaCy, Gensim, Transformers               |\n",
    "| Automatización       | Airflow, Luigi, Jenkins, Apache NiFi            |\n"
   ]
  },
  {
   "cell_type": "markdown",
   "metadata": {},
   "source": [
    "Ejercicio 7 - Cree una celda markdown introduciendo ejemplos de expresiones aritméticas. (1 pto)\n",
    "#  Suma\n",
    "a = 10 + 5  # Resultado: 15\n",
    "\n",
    "# Resta\n",
    "b = 20 - 8  # Resultado: 12\n",
    "\n",
    "# Multiplicación\n",
    "c = 7 * 6   # Resultado: 42\n",
    "\n",
    "# División\n",
    "d = 15 / 4  # Resultado: 3.75"
   ]
  },
  {
   "cell_type": "code",
   "execution_count": 2,
   "metadata": {},
   "outputs": [
    {
     "name": "stdout",
     "output_type": "stream",
     "text": [
      "La suma es: 15\n",
      "La multiplicación es: 50\n"
     ]
    }
   ],
   "source": [
    "#Ejercicio 8 - Cree una celda de códigopara multiplicar y sumar números. (2 ptos)\n",
    "a = 10\n",
    "b = 5\n",
    "\n",
    "suma = a + b\n",
    "multiplicacion = a * b\n",
    "\n",
    "print(f\"La suma es: {suma}\")\n",
    "print(f\"La multiplicación es: {multiplicacion}\")"
   ]
  },
  {
   "cell_type": "code",
   "execution_count": 3,
   "metadata": {},
   "outputs": [
    {
     "name": "stdout",
     "output_type": "stream",
     "text": [
      "120 minutos equivalen a 2 horas y 0 minutos.\n"
     ]
    }
   ],
   "source": [
    "#Ejercicio 9 - Cree una celda de código para convertir minutos en horas. (2 ptos)\n",
    "minutos = 120\n",
    "\n",
    "horas = minutos // 60\n",
    "minutos_restantes = minutos % 60\n",
    "\n",
    "print(f\"{minutos} minutos equivalen a {horas} horas y {minutos_restantes} minutos.\")"
   ]
  },
  {
   "cell_type": "code",
   "execution_count": 4,
   "metadata": {},
   "outputs": [
    {
     "name": "stdout",
     "output_type": "stream",
     "text": [
      "Objetivo 1: entrena a tu dragon\n",
      "Objetivo 2: ciencia de datos\n",
      "Objetivo 3: desarrollar un bug\n"
     ]
    }
   ],
   "source": [
    "#Ejercicio 10 -Inserte una celda de código para listar Objetivos. (3 pts)\n",
    "objetivos = [\n",
    "    \"entrena a tu dragon\",\n",
    "    \"ciencia de datos\",\n",
    "    \"desarrollar un bug\"\n",
    "]\n",
    "\n",
    "for i, objetivo in enumerate(objetivos, 1):\n",
    "    print(f\"Objetivo {i}: {objetivo}\")"
   ]
  },
  {
   "cell_type": "markdown",
   "metadata": {},
   "source": [
    "Ejercicio 11 - Cree una celda markdown para indicar el nombre del Autor.\n",
    "Autor: Jonathan Garrido"
   ]
  },
  {
   "cell_type": "code",
   "execution_count": null,
   "metadata": {},
   "outputs": [],
   "source": []
  }
 ],
 "metadata": {
  "kernelspec": {
   "display_name": "Python 3 (ipykernel)",
   "language": "python",
   "name": "python3"
  },
  "language_info": {
   "codemirror_mode": {
    "name": "ipython",
    "version": 3
   },
   "file_extension": ".py",
   "mimetype": "text/x-python",
   "name": "python",
   "nbconvert_exporter": "python",
   "pygments_lexer": "ipython3",
   "version": "3.12.8"
  }
 },
 "nbformat": 4,
 "nbformat_minor": 4
}
